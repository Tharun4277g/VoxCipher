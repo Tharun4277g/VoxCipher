{
  "cells": [
    {
      "cell_type": "markdown",
      "metadata": {
        "id": "view-in-github",
        "colab_type": "text"
      },
      "source": [
        "<a href=\"https://colab.research.google.com/github/Tharun4277g/VoxCipher/blob/main/speech_to_morse_code.ipynb\" target=\"_parent\"><img src=\"https://colab.research.google.com/assets/colab-badge.svg\" alt=\"Open In Colab\"/></a>"
      ]
    },
    {
      "cell_type": "code",
      "execution_count": null,
      "metadata": {
        "colab": {
          "base_uri": "https://localhost:8080/"
        },
        "id": "WMqgHM_I4rll",
        "outputId": "cfba6979-84f2-427b-b135-279efc4f26e4"
      },
      "outputs": [
        {
          "name": "stdout",
          "output_type": "stream",
          "text": [
            "Looking in indexes: https://pypi.org/simple, https://us-python.pkg.dev/colab-wheels/public/simple/\n",
            "Collecting SpeechRecognition\n",
            "  Downloading SpeechRecognition-3.10.0-py2.py3-none-any.whl (32.8 MB)\n",
            "\u001b[2K     \u001b[90m━━━━━━━━━━━━━━━━━━━━━━━━━━━━━━━━━━━━━━━━\u001b[0m \u001b[32m32.8/32.8 MB\u001b[0m \u001b[31m30.4 MB/s\u001b[0m eta \u001b[36m0:00:00\u001b[0m\n",
            "\u001b[?25hRequirement already satisfied: requests>=2.26.0 in /usr/local/lib/python3.10/dist-packages (from SpeechRecognition) (2.27.1)\n",
            "Requirement already satisfied: certifi>=2017.4.17 in /usr/local/lib/python3.10/dist-packages (from requests>=2.26.0->SpeechRecognition) (2022.12.7)\n",
            "Requirement already satisfied: urllib3<1.27,>=1.21.1 in /usr/local/lib/python3.10/dist-packages (from requests>=2.26.0->SpeechRecognition) (1.26.15)\n",
            "Requirement already satisfied: idna<4,>=2.5 in /usr/local/lib/python3.10/dist-packages (from requests>=2.26.0->SpeechRecognition) (3.4)\n",
            "Requirement already satisfied: charset-normalizer~=2.0.0 in /usr/local/lib/python3.10/dist-packages (from requests>=2.26.0->SpeechRecognition) (2.0.12)\n",
            "Installing collected packages: SpeechRecognition\n",
            "Successfully installed SpeechRecognition-3.10.0\n"
          ]
        }
      ],
      "source": [
        "#installing speech recognition module...\n",
        "!pip install SpeechRecognition"
      ]
    },
    {
      "cell_type": "code",
      "execution_count": null,
      "metadata": {
        "colab": {
          "base_uri": "https://localhost:8080/"
        },
        "id": "mQhxSkGJ5Dks",
        "outputId": "ca305525-0d5b-4543-ac8f-76b6e8bd5753"
      },
      "outputs": [
        {
          "name": "stdout",
          "output_type": "stream",
          "text": [
            "hello my name is monkey D Luffy\n"
          ]
        }
      ],
      "source": [
        "import speech_recognition as sr\n",
        "\n",
        "filename = '/sample-audio.aiff'\n",
        "\n",
        "#initialize the recognizer\n",
        "r = sr.Recognizer()\n",
        "# open the file\n",
        "with sr.AudioFile(filename) as source:\n",
        "    # listen for the data (load audio to memory)\n",
        "    audio_data = r.record(source)\n",
        "    # recognize (convert from speech to text)\n",
        "text = r.recognize_google(audio_data)\n",
        "print(text)\n"
      ]
    },
    {
      "cell_type": "code",
      "execution_count": null,
      "metadata": {
        "colab": {
          "base_uri": "https://localhost:8080/"
        },
        "id": "f23e52ex5mKZ",
        "outputId": "15421249-f1c9-4c39-c4c2-b168b228f673"
      },
      "outputs": [
        {
          "name": "stdout",
          "output_type": "stream",
          "text": [
            ".... . .-.. .-.. ---   -- -.--   -. .- -- .   .. ...   -- --- -. -.- . -.--   -..   .-.. ..- ..-. ..-. -.-- \n"
          ]
        }
      ],
      "source": [
        "# dictionary for mapping characters to morse code\n",
        "CHARS_TO_MORSE_CODE_MAPPING = {\n",
        "    'A': '.-',\n",
        "    'B': '-...',\n",
        "    'C': '-.-.',\n",
        "    'D': '-..',\n",
        "    'E': '.',\n",
        "    'F': '..-.',\n",
        "    'G': '--.',\n",
        "    'H': '....',\n",
        "    'I': '..',\n",
        "    'J': '.---',\n",
        "    'K': '-.-',\n",
        "    'L': '.-..',\n",
        "    'M': '--',\n",
        "    'N': '-.',\n",
        "    'O': '---',\n",
        "    'P': '.--.',\n",
        "    'Q': '--.-',\n",
        "    'R': '.-.',\n",
        "    'S': '...',\n",
        "    'T': '-',\n",
        "    'U': '..-',\n",
        "    'V': '...-',\n",
        "    'W': '.--',\n",
        "    'X': '-..-',\n",
        "    'Y': '-.--',\n",
        "    'Z': '--..',\n",
        "    '1': '.----',\n",
        "    '2': '..---',\n",
        "    '3': '...--',\n",
        "    '4': '....-',\n",
        "    '5': '.....',\n",
        "    '6': '-....',\n",
        "    '7': '--...',\n",
        "    '8': '---..',\n",
        "    '9': '----.',\n",
        "    '0': '-----',\n",
        "    '.': '.-.-.-',\n",
        "    ',': '--..--',\n",
        "    '?': '..--..',\n",
        "    '\\'': '· − − − − ·',\n",
        "    '!': '− · − · − −',\n",
        "    '/': '− · · − ·',\n",
        "    '(': '− · − − ·',\n",
        "    ')': '− · − − · −',\n",
        "    '&': '· − · · ·',\n",
        "    ':': '− − − · · ·',\n",
        "    ';': '− · − · − ·',\n",
        "    '=': '− · · · −',\n",
        "    '+': '· − · − ·',\n",
        "    '-': '− · · · · −',\n",
        "    '_': '· · − − · −',\n",
        "    '\"': '· − · · − ·',\n",
        "    '$': '· · · − · · −',\n",
        "    '@': '· − − · − ·',\n",
        "}\n",
        "\n",
        "\n",
        "# function to encode plain English text to morse code\n",
        "def to_morse_code(english_plain_text):\n",
        "    morse_code = ''\n",
        "    for char in english_plain_text:\n",
        "        # checking for space\n",
        "        # to add single space after every character and double space after every word\n",
        "        if char == ' ':\n",
        "            morse_code += '  '\n",
        "        else:\n",
        "            # adding encoded morse code to the result\n",
        "            morse_code += CHARS_TO_MORSE_CODE_MAPPING[char.upper()] + ' '\n",
        "    return morse_code\n",
        "\n",
        "\n",
        "\n",
        "morse_code = to_morse_code(text)\n",
        "print(morse_code)"
      ]
    },
    {
      "cell_type": "code",
      "execution_count": null,
      "metadata": {
        "colab": {
          "base_uri": "https://localhost:8080/"
        },
        "id": "swYJgHcBnDUq",
        "outputId": "92204b85-d593-4520-8bb1-a6d6d8a29481"
      },
      "outputs": [
        {
          "output_type": "stream",
          "name": "stdout",
          "text": [
            "HELLO MY NAME IS MONKEY D LUFFY\n"
          ]
        }
      ],
      "source": [
        "#function which reverse map the keys to values vice versa\n",
        "def reverse_mapping(mapping):\n",
        "    reversed = {}\n",
        "    for key, value in mapping.items():\n",
        "        reversed[value] = key\n",
        "    return reversed\n",
        "\n",
        "\n",
        "CHARS_TO_MORSE_CODE_MAPPING = {\n",
        "    'A': '.-',\n",
        "    'B': '-...',\n",
        "    'C': '-.-.',\n",
        "    'D': '-..',\n",
        "    'E': '.',\n",
        "    'F': '..-.',\n",
        "    'G': '--.',\n",
        "    'H': '....',\n",
        "    'I': '..',\n",
        "    'J': '.---',\n",
        "    'K': '-.-',\n",
        "    'L': '.-..',\n",
        "    'M': '--',\n",
        "    'N': '-.',\n",
        "    'O': '---',\n",
        "    'P': '.--.',\n",
        "    'Q': '--.-',\n",
        "    'R': '.-.',\n",
        "    'S': '...',\n",
        "    'T': '-',\n",
        "    'U': '..-',\n",
        "    'V': '...-',\n",
        "    'W': '.--',\n",
        "    'X': '-..-',\n",
        "    'Y': '-.--',\n",
        "    'Z': '--..',\n",
        "    '1': '.----',\n",
        "    '2': '..---',\n",
        "    '3': '...--',\n",
        "    '4': '....-',\n",
        "    '5': '.....',\n",
        "    '6': '-....',\n",
        "    '7': '--...',\n",
        "    '8': '---..',\n",
        "    '9': '----.',\n",
        "    '0': '-----',\n",
        "    '.': '.-.-.-',\n",
        "    ',': '--..--',\n",
        "    '?': '..--..',\n",
        "    '\\'': '· − − − − ·',\n",
        "    '!': '− · − · − −',\n",
        "    '/': '− · · − ·',\n",
        "    '(': '− · − − ·',\n",
        "    ')': '− · − − · −',\n",
        "    '&': '· − · · ·',\n",
        "    ':': '− − − · · ·',\n",
        "    ';': '− · − · − ·',\n",
        "    '=': '− · · · −',\n",
        "    '+': '· − · − ·',\n",
        "    '-': '− · · · · −',\n",
        "    '_': '· · − − · −',\n",
        "    '\"': '· − · · − ·',\n",
        "    '$': '· · · − · · −',\n",
        "    '@': '· − − · − ·',\n",
        "}\n",
        "\n",
        "MORSE_CODE_TO_CHARS_MAPPING = reverse_mapping(CHARS_TO_MORSE_CODE_MAPPING)\n",
        "\n",
        "# function to decode morse code to plain English text\n",
        "def to_english_plain_text(morse_code):\n",
        "    english_plain_text = ''\n",
        "\n",
        "    current_char_morse_code = ''\n",
        "    i = 0\n",
        "    while i < len(morse_code) - 1:\n",
        "        # checking for each character\n",
        "        if morse_code[i] == ' ':\n",
        "            # checking for word\n",
        "            if len(current_char_morse_code) == 0 and morse_code[i + 1] == ' ':\n",
        "                english_plain_text += ' '\n",
        "                i += 1\n",
        "            else:\n",
        "                # adding decoded character to the result\n",
        "                english_plain_text += MORSE_CODE_TO_CHARS_MAPPING[current_char_morse_code]\n",
        "                current_char_morse_code = ''\n",
        "        else:\n",
        "            # adding morse code char to the current character\n",
        "            current_char_morse_code += morse_code[i]\n",
        "        i += 1\n",
        "\n",
        "    # adding last character to the result\n",
        "    if len(current_char_morse_code) > 0:\n",
        "        english_plain_text += MORSE_CODE_TO_CHARS_MAPPING[\n",
        "            current_char_morse_code]\n",
        "\n",
        "    return english_plain_text\n",
        "\n",
        "english_plain_text = to_english_plain_text(morse_code)\n",
        "print(english_plain_text)\n"
      ]
    },
    {
      "cell_type": "code",
      "execution_count": null,
      "metadata": {
        "colab": {
          "base_uri": "https://localhost:8080/"
        },
        "id": "njmtfr5Yl-CH",
        "outputId": "78f3e7c9-b8b7-4167-e28e-058f2ee04486"
      },
      "outputs": [
        {
          "name": "stdout",
          "output_type": "stream",
          "text": [
            "Looking in indexes: https://pypi.org/simple, https://us-python.pkg.dev/colab-wheels/public/simple/\n",
            "Collecting gtts\n",
            "  Downloading gTTS-2.3.2-py3-none-any.whl (28 kB)\n",
            "Requirement already satisfied: click<8.2,>=7.1 in /usr/local/lib/python3.10/dist-packages (from gtts) (8.1.3)\n",
            "Requirement already satisfied: requests<3,>=2.27 in /usr/local/lib/python3.10/dist-packages (from gtts) (2.27.1)\n",
            "Requirement already satisfied: urllib3<1.27,>=1.21.1 in /usr/local/lib/python3.10/dist-packages (from requests<3,>=2.27->gtts) (1.26.15)\n",
            "Requirement already satisfied: charset-normalizer~=2.0.0 in /usr/local/lib/python3.10/dist-packages (from requests<3,>=2.27->gtts) (2.0.12)\n",
            "Requirement already satisfied: idna<4,>=2.5 in /usr/local/lib/python3.10/dist-packages (from requests<3,>=2.27->gtts) (3.4)\n",
            "Requirement already satisfied: certifi>=2017.4.17 in /usr/local/lib/python3.10/dist-packages (from requests<3,>=2.27->gtts) (2022.12.7)\n",
            "Installing collected packages: gtts\n",
            "Successfully installed gtts-2.3.2\n"
          ]
        }
      ],
      "source": [
        "#installing Google text-to-speech library\n",
        "!pip install gtts"
      ]
    },
    {
      "cell_type": "code",
      "execution_count": null,
      "metadata": {
        "colab": {
          "base_uri": "https://localhost:8080/",
          "height": 76
        },
        "id": "dcjccg0EmA16",
        "outputId": "51a4319e-3051-42e2-ecbb-9d371140d017"
      },
      "outputs": [
        {
          "output_type": "execute_result",
          "data": {
            "text/plain": [
              "<IPython.lib.display.Audio object>"
            ],
            "text/html": [
              "\n",
              "                <audio  controls=\"controls\" >\n",
              "                    <source src=\"data:audio/x-wav;base64,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\" type=\"audio/x-wav\" />\n",
              "                    Your browser does not support the audio element.\n",
              "                </audio>\n",
              "              "
            ]
          },
          "metadata": {},
          "execution_count": 30
        }
      ],
      "source": [
        "from gtts import gTTS\n",
        "#language assigned for the audio\n",
        "language = \"en\"\n",
        "#object assigned for converting text to speech\n",
        "gtts_object = gTTS(text = english_plain_text,\n",
        "                   lang = language,\n",
        "                   slow = False)\n",
        "\n",
        "#saving the content in the audio file in .wav format\n",
        "gtts_object.save(\"/content/gtts.wav\")\n",
        "from IPython.display import Audio\n",
        "Audio(\"/content/gtts.wav\")"
      ]
    }
  ],
  "metadata": {
    "colab": {
      "provenance": [],
      "include_colab_link": true
    },
    "kernelspec": {
      "display_name": "Python 3",
      "name": "python3"
    },
    "language_info": {
      "name": "python"
    }
  },
  "nbformat": 4,
  "nbformat_minor": 0
}