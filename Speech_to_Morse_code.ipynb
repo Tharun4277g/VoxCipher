{
  "cells": [
    {
      "cell_type": "markdown",
      "metadata": {
        "id": "view-in-github",
        "colab_type": "text"
      },
      "source": [
        "<a href=\"https://colab.research.google.com/github/Tharun4277g/VoxCipher/blob/main/Speech_to_Morse_code.ipynb\" target=\"_parent\"><img src=\"https://colab.research.google.com/assets/colab-badge.svg\" alt=\"Open In Colab\"/></a>"
      ]
    },
    {
      "cell_type": "code",
      "execution_count": null,
      "metadata": {
        "colab": {
          "base_uri": "https://localhost:8080/"
        },
        "id": "WMqgHM_I4rll",
        "outputId": "49ce3f59-6d13-4e24-c781-0413a0bd739a"
      },
      "outputs": [
        {
          "output_type": "stream",
          "name": "stdout",
          "text": [
            "Collecting SpeechRecognition\n",
            "  Downloading SpeechRecognition-3.10.4-py2.py3-none-any.whl.metadata (28 kB)\n",
            "Requirement already satisfied: requests>=2.26.0 in /usr/local/lib/python3.10/dist-packages (from SpeechRecognition) (2.32.3)\n",
            "Requirement already satisfied: typing-extensions in /usr/local/lib/python3.10/dist-packages (from SpeechRecognition) (4.12.2)\n",
            "Requirement already satisfied: charset-normalizer<4,>=2 in /usr/local/lib/python3.10/dist-packages (from requests>=2.26.0->SpeechRecognition) (3.3.2)\n",
            "Requirement already satisfied: idna<4,>=2.5 in /usr/local/lib/python3.10/dist-packages (from requests>=2.26.0->SpeechRecognition) (3.10)\n",
            "Requirement already satisfied: urllib3<3,>=1.21.1 in /usr/local/lib/python3.10/dist-packages (from requests>=2.26.0->SpeechRecognition) (2.2.3)\n",
            "Requirement already satisfied: certifi>=2017.4.17 in /usr/local/lib/python3.10/dist-packages (from requests>=2.26.0->SpeechRecognition) (2024.8.30)\n",
            "Downloading SpeechRecognition-3.10.4-py2.py3-none-any.whl (32.8 MB)\n",
            "\u001b[2K   \u001b[90m━━━━━━━━━━━━━━━━━━━━━━━━━━━━━━━━━━━━━━━━\u001b[0m \u001b[32m32.8/32.8 MB\u001b[0m \u001b[31m29.1 MB/s\u001b[0m eta \u001b[36m0:00:00\u001b[0m\n",
            "\u001b[?25hInstalling collected packages: SpeechRecognition\n",
            "Successfully installed SpeechRecognition-3.10.4\n"
          ]
        }
      ],
      "source": [
        "#installing speech recognition module...\n",
        "!pip install SpeechRecognition"
      ]
    },
    {
      "cell_type": "code",
      "execution_count": null,
      "metadata": {
        "colab": {
          "base_uri": "https://localhost:8080/"
        },
        "id": "mQhxSkGJ5Dks",
        "outputId": "9b5cf07c-97a1-40b2-dbba-4b5630923721"
      },
      "outputs": [
        {
          "output_type": "stream",
          "name": "stdout",
          "text": [
            "I'm Batman\n"
          ]
        }
      ],
      "source": [
        "import speech_recognition as sr\n",
        "\n",
        "filename ='/content/im-batman-2-87380.aiff' #'/sample-audio.aiff'\n",
        "\n",
        "#initialize the recognizer\n",
        "r = sr.Recognizer()\n",
        "# open the file\n",
        "with sr.AudioFile(filename) as source:\n",
        "    # listen for the data (load audio to memory)\n",
        "    audio_data = r.record(source)\n",
        "    # recognize (convert from speech to text)\n",
        "text = r.recognize_google(audio_data)\n",
        "print(text)\n"
      ]
    },
    {
      "cell_type": "code",
      "execution_count": null,
      "metadata": {
        "colab": {
          "base_uri": "https://localhost:8080/"
        },
        "id": "f23e52ex5mKZ",
        "outputId": "e121afdc-bcb9-4637-9d4d-a7e0e68f64c7"
      },
      "outputs": [
        {
          "output_type": "stream",
          "name": "stdout",
          "text": [
            ".. · − − − − · --   -... .- - -- .- -. \n"
          ]
        }
      ],
      "source": [
        "# dictionary for mapping characters to morse code\n",
        "CHARS_TO_MORSE_CODE_MAPPING = {\n",
        "    'A': '.-',\n",
        "    'B': '-...',\n",
        "    'C': '-.-.',\n",
        "    'D': '-..',\n",
        "    'E': '.',\n",
        "    'F': '..-.',\n",
        "    'G': '--.',\n",
        "    'H': '....',\n",
        "    'I': '..',\n",
        "    'J': '.---',\n",
        "    'K': '-.-',\n",
        "    'L': '.-..',\n",
        "    'M': '--',\n",
        "    'N': '-.',\n",
        "    'O': '---',\n",
        "    'P': '.--.',\n",
        "    'Q': '--.-',\n",
        "    'R': '.-.',\n",
        "    'S': '...',\n",
        "    'T': '-',\n",
        "    'U': '..-',\n",
        "    'V': '...-',\n",
        "    'W': '.--',\n",
        "    'X': '-..-',\n",
        "    'Y': '-.--',\n",
        "    'Z': '--..',\n",
        "    '1': '.----',\n",
        "    '2': '..---',\n",
        "    '3': '...--',\n",
        "    '4': '....-',\n",
        "    '5': '.....',\n",
        "    '6': '-....',\n",
        "    '7': '--...',\n",
        "    '8': '---..',\n",
        "    '9': '----.',\n",
        "    '0': '-----',\n",
        "    '.': '.-.-.-',\n",
        "    ',': '--..--',\n",
        "    '?': '..--..',\n",
        "    '\\'': '· − − − − ·',\n",
        "    '!': '− · − · − −',\n",
        "    '/': '− · · − ·',\n",
        "    '(': '− · − − ·',\n",
        "    ')': '− · − − · −',\n",
        "    '&': '· − · · ·',\n",
        "    ':': '− − − · · ·',\n",
        "    ';': '− · − · − ·',\n",
        "    '=': '− · · · −',\n",
        "    '+': '· − · − ·',\n",
        "    '-': '− · · · · −',\n",
        "    '_': '· · − − · −',\n",
        "    '\"': '· − · · − ·',\n",
        "    '$': '· · · − · · −',\n",
        "    '@': '· − − · − ·',\n",
        "}\n",
        "\n",
        "\n",
        "# function to encode plain English text to morse code\n",
        "def to_morse_code(english_plain_text):\n",
        "    morse_code = ''\n",
        "    for char in english_plain_text:\n",
        "        # checking for space\n",
        "        # to add single space after every character and double space after every word\n",
        "        if char == ' ':\n",
        "            morse_code += '  '\n",
        "        else:\n",
        "            # adding encoded morse code to the result\n",
        "            morse_code += CHARS_TO_MORSE_CODE_MAPPING[char.upper()] + ' '\n",
        "    return morse_code\n",
        "\n",
        "\n",
        "\n",
        "morse_code = to_morse_code(text)\n",
        "print(morse_code)"
      ]
    },
    {
      "cell_type": "code",
      "execution_count": null,
      "metadata": {
        "colab": {
          "base_uri": "https://localhost:8080/"
        },
        "id": "swYJgHcBnDUq",
        "outputId": "e7dc90ff-9bf2-45ae-8741-c1a1d70e09b7"
      },
      "outputs": [
        {
          "output_type": "stream",
          "name": "stdout",
          "text": [
            "I'M BATMAN\n"
          ]
        }
      ],
      "source": [
        "#function which reverse map the keys to values vice versa\n",
        "def reverse_mapping(mapping):\n",
        "    reversed = {}\n",
        "    for key, value in mapping.items():\n",
        "        reversed[value] = key\n",
        "    return reversed\n",
        "\n",
        "\n",
        "CHARS_TO_MORSE_CODE_MAPPING = {\n",
        "    'A': '.-',\n",
        "    'B': '-...',\n",
        "    'C': '-.-.',\n",
        "    'D': '-..',\n",
        "    'E': '.',\n",
        "    'F': '..-.',\n",
        "    'G': '--.',\n",
        "    'H': '....',\n",
        "    'I': '..',\n",
        "    'J': '.---',\n",
        "    'K': '-.-',\n",
        "    'L': '.-..',\n",
        "    'M': '--',\n",
        "    'N': '-.',\n",
        "    'O': '---',\n",
        "    'P': '.--.',\n",
        "    'Q': '--.-',\n",
        "    'R': '.-.',\n",
        "    'S': '...',\n",
        "    'T': '-',\n",
        "    'U': '..-',\n",
        "    'V': '...-',\n",
        "    'W': '.--',\n",
        "    'X': '-..-',\n",
        "    'Y': '-.--',\n",
        "    'Z': '--..',\n",
        "    '1': '.----',\n",
        "    '2': '..---',\n",
        "    '3': '...--',\n",
        "    '4': '....-',\n",
        "    '5': '.....',\n",
        "    '6': '-....',\n",
        "    '7': '--...',\n",
        "    '8': '---..',\n",
        "    '9': '----.',\n",
        "    '0': '-----',\n",
        "    '.': '.-.-.-',\n",
        "    ',': '--..--',\n",
        "    '?': '..--..',\n",
        "    '\\'': '· − − − − ·',\n",
        "    '!': '− · − · − −',\n",
        "    '/': '− · · − ·',\n",
        "    '(': '− · − − ·',\n",
        "    ')': '− · − − · −',\n",
        "    '&': '· − · · ·',\n",
        "    ':': '− − − · · ·',\n",
        "    ';': '− · − · − ·',\n",
        "    '=': '− · · · −',\n",
        "    '+': '· − · − ·',\n",
        "    '-': '− · · · · −',\n",
        "    '_': '· · − − · −',\n",
        "    '\"': '· − · · − ·',\n",
        "    '$': '· · · − · · −',\n",
        "    '@': '· − − · − ·',\n",
        "}\n",
        "\n",
        "MORSE_CODE_TO_CHARS_MAPPING = reverse_mapping(CHARS_TO_MORSE_CODE_MAPPING)\n",
        "\n",
        "# function to decode morse code to plain English text\n",
        "def to_english_plain_text(morse_code):\n",
        "    english_plain_text = ''\n",
        "\n",
        "    current_char_morse_code = ''\n",
        "    i = 0\n",
        "    while i < len(morse_code) - 1:\n",
        "        # checking for each character\n",
        "        if morse_code[i] == ' ':\n",
        "            # checking for word\n",
        "            if len(current_char_morse_code) == 0 and morse_code[i + 1] == ' ':\n",
        "                english_plain_text += ' '\n",
        "                i += 1\n",
        "            else:\n",
        "                # adding decoded character to the result\n",
        "                english_plain_text += MORSE_CODE_TO_CHARS_MAPPING[current_char_morse_code]\n",
        "                current_char_morse_code = ''\n",
        "        else:\n",
        "            # adding morse code char to the current character\n",
        "            current_char_morse_code += morse_code[i]\n",
        "        i += 1\n",
        "\n",
        "    # adding last character to the result\n",
        "    if len(current_char_morse_code) > 0:\n",
        "        english_plain_text += MORSE_CODE_TO_CHARS_MAPPING[\n",
        "            current_char_morse_code]\n",
        "\n",
        "    return english_plain_text\n",
        "\n",
        "english_plain_text = to_english_plain_text(morse_code)\n",
        "print(english_plain_text)\n"
      ]
    },
    {
      "cell_type": "code",
      "execution_count": null,
      "metadata": {
        "colab": {
          "base_uri": "https://localhost:8080/"
        },
        "id": "njmtfr5Yl-CH",
        "outputId": "33d14ed5-4184-4709-e170-12de0e5aa589"
      },
      "outputs": [
        {
          "output_type": "stream",
          "name": "stdout",
          "text": [
            "Collecting gtts\n",
            "  Downloading gTTS-2.5.3-py3-none-any.whl.metadata (4.1 kB)\n",
            "Requirement already satisfied: requests<3,>=2.27 in /usr/local/lib/python3.10/dist-packages (from gtts) (2.32.3)\n",
            "Requirement already satisfied: click<8.2,>=7.1 in /usr/local/lib/python3.10/dist-packages (from gtts) (8.1.7)\n",
            "Requirement already satisfied: charset-normalizer<4,>=2 in /usr/local/lib/python3.10/dist-packages (from requests<3,>=2.27->gtts) (3.3.2)\n",
            "Requirement already satisfied: idna<4,>=2.5 in /usr/local/lib/python3.10/dist-packages (from requests<3,>=2.27->gtts) (3.10)\n",
            "Requirement already satisfied: urllib3<3,>=1.21.1 in /usr/local/lib/python3.10/dist-packages (from requests<3,>=2.27->gtts) (2.2.3)\n",
            "Requirement already satisfied: certifi>=2017.4.17 in /usr/local/lib/python3.10/dist-packages (from requests<3,>=2.27->gtts) (2024.8.30)\n",
            "Downloading gTTS-2.5.3-py3-none-any.whl (29 kB)\n",
            "Installing collected packages: gtts\n",
            "Successfully installed gtts-2.5.3\n"
          ]
        }
      ],
      "source": [
        "#installing Google text-to-speech library\n",
        "!pip install gtts"
      ]
    },
    {
      "cell_type": "code",
      "execution_count": null,
      "metadata": {
        "colab": {
          "base_uri": "https://localhost:8080/",
          "height": 75
        },
        "id": "dcjccg0EmA16",
        "outputId": "b9356a53-c395-4808-fb17-de8cc909be10"
      },
      "outputs": [
        {
          "output_type": "execute_result",
          "data": {
            "text/plain": [
              "<IPython.lib.display.Audio object>"
            ],
            "text/html": [
              "\n",
              "                <audio  controls=\"controls\" >\n",
              "                    <source src=\"data:audio/x-wav;base64,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\" type=\"audio/x-wav\" />\n",
              "                    Your browser does not support the audio element.\n",
              "                </audio>\n",
              "              "
            ]
          },
          "metadata": {},
          "execution_count": 10
        }
      ],
      "source": [
        "from gtts import gTTS  #google text to speech(python library for supporting multiple languages)\n",
        "#language assigned for the audio\n",
        "language = \"en\"\n",
        "#object assigned for converting text to speech\n",
        "gtts_object = gTTS(text = english_plain_text,\n",
        "                   lang = language,\n",
        "                   slow = False)\n",
        "\n",
        "#saving the content in the audio file in .wav format\n",
        "gtts_object.save(\"/content/gtts.wav\")\n",
        "from IPython.display import Audio\n",
        "Audio(\"/content/gtts.wav\")"
      ]
    }
  ],
  "metadata": {
    "colab": {
      "provenance": [],
      "include_colab_link": true
    },
    "kernelspec": {
      "display_name": "Python 3",
      "name": "python3"
    },
    "language_info": {
      "name": "python"
    }
  },
  "nbformat": 4,
  "nbformat_minor": 0
}