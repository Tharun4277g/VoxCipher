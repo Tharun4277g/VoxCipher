{
  "nbformat": 4,
  "nbformat_minor": 0,
  "metadata": {
    "colab": {
      "provenance": [],
      "authorship_tag": "ABX9TyPhs9OjhG1x2CiwOMYUJ99B",
      "include_colab_link": true
    },
    "kernelspec": {
      "name": "python3",
      "display_name": "Python 3"
    },
    "language_info": {
      "name": "python"
    }
  },
  "cells": [
    {
      "cell_type": "markdown",
      "metadata": {
        "id": "view-in-github",
        "colab_type": "text"
      },
      "source": [
        "<a href=\"https://colab.research.google.com/github/Tharun4277g/VoxCipher/blob/main/Translator(Text_to_speech).ipynb\" target=\"_parent\"><img src=\"https://colab.research.google.com/assets/colab-badge.svg\" alt=\"Open In Colab\"/></a>"
      ]
    },
    {
      "cell_type": "code",
      "execution_count": null,
      "metadata": {
        "id": "zFWf8YmBtlMT",
        "colab": {
          "base_uri": "https://localhost:8080/",
          "height": 735
        },
        "outputId": "ebfa3a6e-6fd5-45dc-e0e3-d5f63e4c4ba8"
      },
      "outputs": [
        {
          "output_type": "stream",
          "name": "stdout",
          "text": [
            "Collecting translate\n",
            "  Downloading translate-3.6.1-py2.py3-none-any.whl.metadata (7.7 kB)\n",
            "Requirement already satisfied: click in /usr/local/lib/python3.10/dist-packages (from translate) (8.1.7)\n",
            "Requirement already satisfied: lxml in /usr/local/lib/python3.10/dist-packages (from translate) (4.9.4)\n",
            "Requirement already satisfied: requests in /usr/local/lib/python3.10/dist-packages (from translate) (2.32.3)\n",
            "Collecting libretranslatepy==2.1.1 (from translate)\n",
            "  Downloading libretranslatepy-2.1.1-py3-none-any.whl.metadata (233 bytes)\n",
            "Requirement already satisfied: charset-normalizer<4,>=2 in /usr/local/lib/python3.10/dist-packages (from requests->translate) (3.3.2)\n",
            "Requirement already satisfied: idna<4,>=2.5 in /usr/local/lib/python3.10/dist-packages (from requests->translate) (3.10)\n",
            "Requirement already satisfied: urllib3<3,>=1.21.1 in /usr/local/lib/python3.10/dist-packages (from requests->translate) (2.2.3)\n",
            "Requirement already satisfied: certifi>=2017.4.17 in /usr/local/lib/python3.10/dist-packages (from requests->translate) (2024.8.30)\n",
            "Downloading translate-3.6.1-py2.py3-none-any.whl (12 kB)\n",
            "Downloading libretranslatepy-2.1.1-py3-none-any.whl (3.2 kB)\n",
            "Installing collected packages: libretranslatepy, translate\n",
            "Successfully installed libretranslatepy-2.1.1 translate-3.6.1\n",
            "To convert the text into\n",
            "1.English\n",
            "2.Spanish\n",
            "3.French\n",
            "4.German\n",
            "5.Korean\n",
            "6.Mandarin\n",
            "7.Arabic\n",
            "8.Portugese\n",
            "Enter your choice to convert the text(1-8):2\n",
            "The language in which it is converted is Spanish\n",
            "and the Translation is hola\n",
            "Collecting gtts\n",
            "  Downloading gTTS-2.5.3-py3-none-any.whl.metadata (4.1 kB)\n",
            "Requirement already satisfied: requests<3,>=2.27 in /usr/local/lib/python3.10/dist-packages (from gtts) (2.32.3)\n",
            "Requirement already satisfied: click<8.2,>=7.1 in /usr/local/lib/python3.10/dist-packages (from gtts) (8.1.7)\n",
            "Requirement already satisfied: charset-normalizer<4,>=2 in /usr/local/lib/python3.10/dist-packages (from requests<3,>=2.27->gtts) (3.3.2)\n",
            "Requirement already satisfied: idna<4,>=2.5 in /usr/local/lib/python3.10/dist-packages (from requests<3,>=2.27->gtts) (3.10)\n",
            "Requirement already satisfied: urllib3<3,>=1.21.1 in /usr/local/lib/python3.10/dist-packages (from requests<3,>=2.27->gtts) (2.2.3)\n",
            "Requirement already satisfied: certifi>=2017.4.17 in /usr/local/lib/python3.10/dist-packages (from requests<3,>=2.27->gtts) (2024.8.30)\n",
            "Downloading gTTS-2.5.3-py3-none-any.whl (29 kB)\n",
            "Installing collected packages: gtts\n",
            "Successfully installed gtts-2.5.3\n"
          ]
        },
        {
          "output_type": "execute_result",
          "data": {
            "text/plain": [
              "<IPython.lib.display.Audio object>"
            ],
            "text/html": [
              "\n",
              "                <audio  controls=\"controls\" >\n",
              "                    <source src=\"data:audio/x-wav;base64,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\" type=\"audio/x-wav\" />\n",
              "                    Your browser does not support the audio element.\n",
              "                </audio>\n",
              "              "
            ]
          },
          "metadata": {},
          "execution_count": 1
        }
      ],
      "source": [
        "!pip install translate\n",
        "from translate import Translator\n",
        "languages = [\"English\", \"Spanish\", \"French\", \"German\", \"Korean\", \"Mandarin\", \"Arabic\", \"Portuguese\"]\n",
        "while True:\n",
        "  print(\"To convert the text into\")\n",
        "  print(\"1.English\")\n",
        "  print(\"2.Spanish\")\n",
        "  print(\"3.French\")\n",
        "  print(\"4.German\")\n",
        "  print(\"5.Korean\")\n",
        "  print(\"6.Mandarin\")\n",
        "  print(\"7.Arabic\")\n",
        "  print(\"8.Portugese\")\n",
        "  Choice=int(input(\"Enter your choice to convert the text(1-8):\"))\n",
        "  if Choice==1:\n",
        "    translator= Translator(to_lang=languages[0])\n",
        "    text='hello'\n",
        "    translation = translator.translate(text)\n",
        "    print(\"The language in which it is converted is\",languages[0])\n",
        "    print(\"and the Translation is\",translation)\n",
        "    break\n",
        "  elif Choice==2:\n",
        "    translator= Translator(to_lang=languages[1])\n",
        "    text='hello'\n",
        "    translation = translator.translate(text)\n",
        "    print(\"The language in which it is converted is\",languages[1])\n",
        "    print(\"and the Translation is\",translation)\n",
        "    break\n",
        "  elif Choice==3:\n",
        "    translator= Translator(to_lang=languages[2])\n",
        "    text='hello'\n",
        "    translation = translator.translate(text)\n",
        "    print(\"The language in which it is converted is\",languages[2])\n",
        "    print(\"and the Translation is\",translation)\n",
        "    break\n",
        "  elif Choice==4:\n",
        "    translator= Translator(to_lang=languages[3])\n",
        "    text='hello'\n",
        "    translation = translator.translate(text)\n",
        "    print(\"The language in which it is converted is\",languages[3])\n",
        "    print(\"and the Translation is\",translation)\n",
        "    break\n",
        "  elif Choice==5:\n",
        "    translator= Translator(to_lang=languages[4])\n",
        "    text='hello'\n",
        "    translation = translator.translate(text)\n",
        "    print(\"The language in which it is converted is\",languages[4])\n",
        "    print(\"and the Translation is\",translation)\n",
        "    break\n",
        "  elif Choice==6:\n",
        "    translator= Translator(to_lang=languages[5])\n",
        "    text='hello'\n",
        "    translation = translator.translate(text)\n",
        "    print(\"The language in which it is converted is\",languages[5])\n",
        "    print(\"and the Translation is\",translation)\n",
        "    break\n",
        "  elif Choice==7:\n",
        "    translator= Translator(to_lang=languages[6])\n",
        "    text='hello'\n",
        "    translation = translator.translate(text)\n",
        "    print(\"The language in which it is converted is\",languages[6])\n",
        "    print(\"and the Translation is\",translation)\n",
        "    break\n",
        "  elif Choice==8:\n",
        "    translator= Translator(to_lang=languages[7])\n",
        "    text='hello'\n",
        "    translation = translator.translate(text)\n",
        "    print(\"The language in which it is converted is\",languages[7])\n",
        "    print(\"and the Translation is\",translation)\n",
        "    break\n",
        "  else:\n",
        "    print(\"Not converted\")\n",
        "    break\n",
        "\n",
        "!pip install gtts\n",
        "from gtts import gTTS\n",
        "text_to_say = translation\n",
        "language = \"ko\"\n",
        "gtts_object = gTTS(text = text_to_say,\n",
        "                   lang = language,\n",
        "                   slow = False)\n",
        "\n",
        "gtts_object.save(\"/content/gtts.wav\")\n",
        "from IPython.display import Audio\n",
        "Audio(\"/content/gtts.wav\")\n"
      ]
    },
    {
      "cell_type": "code",
      "source": [
        "!pip install translate\n",
        "from translate import Translator\n",
        "import random\n",
        "languages = [\"English\", \"Spanish\", \"French\", \"German\", \"Russian\", \"Mandarin\", \"Arabic\", \"Portuguese\", \"Italian\"]\n",
        "random_language = random.choice(languages)\n",
        "print(\"Random language:\", random_language)\n",
        "translator= Translator(to_lang=random_language)\n",
        "translation = translator.translate(text)\n",
        "print(\"The translation of text is\",translation)\n",
        "!pip install gtts\n",
        "from gtts import gTTS\n",
        "text_to_say = translation\n",
        "language = \"ko\"\n",
        "gtts_object = gTTS(text = text_to_say,\n",
        "                   lang = language,\n",
        "                   slow = False)\n",
        "\n",
        "gtts_object.save(\"/content/gtts.wav\")\n",
        "from IPython.display import Audio\n",
        "Audio(\"/content/gtts.wav\")"
      ],
      "metadata": {
        "colab": {
          "base_uri": "https://localhost:8080/",
          "height": 388
        },
        "id": "zP4YP2PVhqCo",
        "outputId": "6ed7d231-90c7-4156-bca8-d218d745118a"
      },
      "execution_count": null,
      "outputs": [
        {
          "output_type": "stream",
          "name": "stdout",
          "text": [
            "Requirement already satisfied: translate in /usr/local/lib/python3.10/dist-packages (3.6.1)\n",
            "Requirement already satisfied: click in /usr/local/lib/python3.10/dist-packages (from translate) (8.1.7)\n",
            "Requirement already satisfied: lxml in /usr/local/lib/python3.10/dist-packages (from translate) (4.9.4)\n",
            "Requirement already satisfied: requests in /usr/local/lib/python3.10/dist-packages (from translate) (2.32.3)\n",
            "Requirement already satisfied: libretranslatepy==2.1.1 in /usr/local/lib/python3.10/dist-packages (from translate) (2.1.1)\n",
            "Requirement already satisfied: charset-normalizer<4,>=2 in /usr/local/lib/python3.10/dist-packages (from requests->translate) (3.3.2)\n",
            "Requirement already satisfied: idna<4,>=2.5 in /usr/local/lib/python3.10/dist-packages (from requests->translate) (3.10)\n",
            "Requirement already satisfied: urllib3<3,>=1.21.1 in /usr/local/lib/python3.10/dist-packages (from requests->translate) (2.2.3)\n",
            "Requirement already satisfied: certifi>=2017.4.17 in /usr/local/lib/python3.10/dist-packages (from requests->translate) (2024.8.30)\n",
            "Random language: Spanish\n",
            "The translation of text is hola\n",
            "Requirement already satisfied: gtts in /usr/local/lib/python3.10/dist-packages (2.5.3)\n",
            "Requirement already satisfied: requests<3,>=2.27 in /usr/local/lib/python3.10/dist-packages (from gtts) (2.32.3)\n",
            "Requirement already satisfied: click<8.2,>=7.1 in /usr/local/lib/python3.10/dist-packages (from gtts) (8.1.7)\n",
            "Requirement already satisfied: charset-normalizer<4,>=2 in /usr/local/lib/python3.10/dist-packages (from requests<3,>=2.27->gtts) (3.3.2)\n",
            "Requirement already satisfied: idna<4,>=2.5 in /usr/local/lib/python3.10/dist-packages (from requests<3,>=2.27->gtts) (3.10)\n",
            "Requirement already satisfied: urllib3<3,>=1.21.1 in /usr/local/lib/python3.10/dist-packages (from requests<3,>=2.27->gtts) (2.2.3)\n",
            "Requirement already satisfied: certifi>=2017.4.17 in /usr/local/lib/python3.10/dist-packages (from requests<3,>=2.27->gtts) (2024.8.30)\n"
          ]
        },
        {
          "output_type": "execute_result",
          "data": {
            "text/plain": [
              "<IPython.lib.display.Audio object>"
            ],
            "text/html": [
              "\n",
              "                <audio  controls=\"controls\" >\n",
              "                    <source src=\"data:audio/x-wav;base64,//OExAAAAAAAAAAAAAAAAAAAAAAAAAAAAAAAAAAAAAAAAAAAAAAAAAAAAAAAAAAAAAAAAAAAAAAAAAAAAAAAAAAAAAAAAAAAAAAAAAAAAAAAAAAAAAAAAAAAAAAAAAAAAAAAAAAAAAAAAAAAAAAAAAAAAAAAAAAAAAAAAAAAAAAAAAAAAAAAAAAAAAAAAAAAAAAAAAAAAAAAAAAAAAAAAAAAAAAAAAAAAAAAAAAAAAAAAAAAAAAAAAAAAAAAAAAA//OExAAmqrIMAMpGuREkcyg6aZ4phjgodY6x2vtcawux3L1SGJzQrRisVisnRoyckQIEAoFAoBAMBsVk6MVgmGxWKwwKBQKBQgIEDE5zubc/cP/SIWn/oXXd3f/Td3d3EIEAAAQif0//5/6I7/0/if/8RERERDru7u7gAAIREAABBYeHh4eAAAAAIz/dgHh4eHv///of0fEAAAAAMw8PD4n////9f/gCMl+N8tFupc9H1KKA2Xyh14Ph+HX8hh15//OExBgk224cANJGvcbgF+OzBA9RCKxQw0WOTNP2aPWELH82WU9MMpnVZSalE20+VsM6wn4xnLtQlLNq8LO6uFyV1e471aoVDhtydcHlnaTGyFKLRSo16rMbZtPJUWl2GXxLYbQ58K0nXJYCZmaG1QstTIn5sjdoeynefuhBzT10DmeKxlT3fTUxVJj7bZL5IAQYBmlQwlM6kBJypFMij82yXb/rsWAS8LmES3DsHayJttoplIdENSrt4pIEtqKX//OExDctq94cAOPG3Udbp9rD1SpCrxeeRZUSpE/PVRet4klmyBFdLGI0KBCxNAouNWfR8VkiZlxYQOCBgQdAg0E0AChzQEQQlJGjkCOMnNCPdCVxkPOBphi2O6G4LFoG4i00QTVKDrERuLz3U+OcKKqkp5vc7khy02KlTTRUPtMoRp4hQylisAJQBK2CBCeORiYwaA0w2iK7TmZyhUUAcwQFDAwEMEAwFAxO1QtzFFjCYFEACMJA5VFWA1wTYvGl//OExDMuvAosAOPG3R8Kdg6sVkBQRo0aO/ljUixWdjf4xAmllfyS2ey5h4b3OHiO/Z2pX33n3c9al3aHikaPJqngSy7XRoexJgDsHgBhEri3Bu5C6ZmmHAzOI5gGaBzhH6QiOncDfJCRAOQ6bEicStsX3zmrxPhykTGbnen8T0RE3N8stA77ER03Qg5xDXpmLPY3bjUlNGYiGKFhBJNhAiWvV0aBsYz8bYabNecNmKCAIXMOIbgTPTiOBGlLYAYA//OExCsw695EANPM3VWHaharYTEL4OA+SDvk/Hc6PJIB+LCHmm7Y2x4rISah308op3O0SsfWm1zsoE+nIkZ5rOHlM+JLfDzEHNLx8/6iTJIFIY8YuHubTboe0/2NXuGa318y6o9NDlIFc726e4/aIy9P1iQa9xYQLT3lIT7QL8M/+e//U3sfKe0+2TewfWXu+/H2PEe22G7X98P83/TcOiY3ubzswpUgy67dpuGgodDRPYylNh01ACNN9SbRlqyI//OExBotu55YAMYMvTlDWyZZc2CWnvW06afZ6Ycrw3BkhgOtG6kiv08rl0zLqabn79evIKDtaVWblJMUNu3d7K8Ken3Odr8l9Jlyx/amsMNMhBrVQJZpffcO6t279bkRPbLtv9ydnOglO0EEL09cGVdsrl41U+ffhXn1bNMPv3XzK/aH+xfZ2eHb3U+ylIfcTj+4Z8dtpqnb8MePiMVrCI4+epls91NtCB+JkIGZ3BnWwYqsGuFxgRGaOhgkcNtQ//OExBYqy1psAN4KvUQgRkQEY+PmQiKA8RAxawLiothK8VApFyWdw/qNRWntxGFyqM0FrHPtrHl3LV3tnLVrL/x5K72VJT55Re5c3UtfYp8Z+kidB9uYtqYwsZ1d3V2tT8r6SuqFQpx93y+t6rZyiZAmHyEKdziDCCsV5CpI7qjHV9Fc9TmPJIQi1P32fvRnQ6mUX9EvVzRd/l//9DbGWMwgKm5GBAGuIY7SQYqicEB0YBgAaLKIY4ioWVJgGMRz//OExB0r8u54AO7auEwgGpWFQHMRwrMAgNT5CwUcdFIPpQjIKAhNm0ghpTn4+tOBtXXby+pSazpJzuqetzGn52lr09DQQdIra5F6Svc3avYD3JIomIHoDkJYsMDxkaIJJmZmfT7Oqv2/0l72Wqn/9TV8wWpITw4eSRNS+o8iYpXOdWkmZon0061IajyTEw+hJrkxETiaSp0NSrcj///oon8cMHBA17EjawGJg+BAOGqoIJgyABGOzP6sEgvKAKPT//OExCAv6up8AOaauBOCi8TZxh8Z4qoKo+ZfOIAy/3rEYVncvVXYlR7bm63OTUh3uXd3K2zWbkMM1qtLQDyGG1zpHUfZpb9JrOc7MsPLhYDcAToVU6QhxmjnDMoLHePa6BtUtFOj9SGr//X/TTQQQZabJn3MGJEmmxSKZSNTZnMJubonFIMcQZRoyqKi4cagcYfCgUzIejHC+wSUcf/Y17mP/6uQmmmXGSiCylV/V5CANmN7CZWDaaSOJxgdstUC//OExBMqEu6EAOZUuDBgjOIAderviIVqXTjvAYciAl0yZmZNy/7fDNB0gv0w15WXyuA2+nJWtPKIMMTM46amb+xCBEJ78Uqi6mEnm2strNZU8W5lN4azUIC0JQDwJscYKZw+VqHpfv//X///0IKus8mNKmiFEEQCJHSdiUmMYiNPNInQfFUYlKFDObKHSIiJ8uOEQrDZlUeuZ/q/+Y/0WuRFVXKbwiCRwhfj0fFg6YHFh10pjQmRvCqIM6DtRqVg//OExB0tQvp4AOaQuMB5MC4pXMgbabIW5iSKUyRwDRHwUOkBjS4HCgY8nSCGinEyOmSJU+ijYQbLarXCgEyJB0FblBkaqGo2Fpt74vS2r9JX3ELVnec74TB9TFC061zt3/z/9//P////8/f9jMSua7wKjGccmHQdHEmB0UcNBoKGOKi6jxRxCHWC4XFiSYMOR0a0GisQSKxTHSfAk/sZ/Ue//2JrbkqmKB0YjxsYGBAtodGswVNoLgC3EwQHoSBR//OExBsqcvZ0AO5QuDzdgRAcoVdaYbIUWloqbDFV4UAatEGSQBWwiDwoccDLNXaJLRoIv64xwN21gq5pAyyRO2x76dfeFLjOXbF2E4WZ6emKSW5yixn/I/eI6uq+PqOfnv/+u/////ubI4PFkbFLJsQDxUsioEghhyEQND1sORKHwiU8yMHmFMMVXaqm/mJv71YXDIS/R7Lv//ahclKoQC04HbQEsS1xiIQHXBGPAQRAQZLhQMXvY2GB76wiBTy1//OExCQnqo54AOYQuGCgIGluQGpGlmEOFHfS3BYnigwKCAIHvcgQGRyftn7Bn2uu29tA6DatOjb7uzS16eKyyMRGWvpLJTdtj5StkdtDYYYv3T3E8Tx1/Pdcf8////75woYNFZPFqNHqwTCqOljMeFTzriaEHRiTWAERgoWPEY8A0Dw4S//vQqV2jAAmPOKwwOATAQEMEqI1UIxoBFQLDI/HgZHkceymYHgVN0o4RWKVTDEcIYbO5LhqbpMrBsjK//OExDgmioJ4AOYKuMqdNRLxd7kxp1YtDcQmLky4VBKH/fiYlURl8vpIflcqgG8/EzTVioiKLHMLqQaYVUUSLSqv/Uh9Ttt//rQwrBAGEhcxnHHU5HNExciO6lCkaIkFk3i4ZBU7KljLVCIRH//11W5FUFIK45PDEAADgcyn9GnAEhZr1cZmCF+jBBRM50wqAgIKgZlCTquWto/r9j8GR122HtpOSoyAASqZyFKXrgZYstgxyXshyVSe1Dj7R6dj//OExFAnCm54AN4MuNhQUtiITkMRCuzCGYxHcaSkXqinimIh0jkFMWrvet/fbt/fhUZ/81v2///z/s1BCbgiZFZi3MSyDl6J1y0snFlVg1U8ts9qyKxF//WqwZmBEAc9FwJAphUxm3RpHDCphMajVbKTQsK0ZTDIlLdLpLTp1MPBo19KnTXVwkQj42ZTNTJJFGgEGGgCxGOKYrrfBxaJrj0MkpXhyciUQJRNiqu/m7jyB0HgeAmhoMcZxyC0Mh6H//OExGYmAg58AOYamI0JcpF4kDQ8QyofRhzIkDJRqbEwrN0iQRZBv71qT29t/6tJZkBg4VBUWK4TAZeFTDfqgEkAjKMYz0KBggbknApKEAUaAbhg0YilmXswQ9GGp5iJAZFRuLr4MsNjgODCDy6pgmiQyGIXBTFTUAADM1MQyQ11TFTUEBwijD3NWbWCoYdF0njaRZYxDG45iSQCAmOhQ7ymB9CMl+Khbjl3fu0L/aaqZxb11DP9gVZKKPC2Maje//OExIEpmXaIAN5elCHnXLEeHwzOf1wx1vUjKB4MgmUNgmkIhw3FucBCcDJo1IF3n001cEtucMCgYBGxkhsGhANViCMwIKDzECDJkgMFNuIM6XMOKVWSHlCEoeKSAQTs7LxBixEUsgpiLtcc1VDnqwhYcBPW5sSXbZdN5Y206geCR9gadiEcn4cZVI2TPM2SMv/SRKTVgflBGLCkYUSVCrDAPBoPANgRFInAYMCWD1SxYqfb///T/REu/313PocR//OExI0lwmKUANYOuDRzijZnXkOkUSlywK2bhxbQ33YgFBkKwaGTHKZBCqtpxmA1I3ly75s+nGEDpw7koUQOLXDRKbq6i/6GxEaBBThGNsY3inAR/Z0nXFW9izXqJ0Z6SyKIR23AWnppInJoIc+NvJBSs8parPw9LYnWoJTdoasxlT3rFvsrxjE9G4q/jtwDE4jHNV7s1eSLMr/9inWB7nZsY1TUs+mxLSIxnPM0pg6tMDcSG0N/XAatmKKpl4aa//OExKkkuYqQAVnIANEBqYcPHQMmjOAQ2ZkMlsjK1Y3FSKUk1kxNYXDzV82NPHl4yhACiyYsrmXLxlfSb2GmZjhkAkY+iMzMVBzUTw3nOMrEFehwqGBY8BEQSHA5aROEwMBQrcstSl6y9ZpdlIIOCDCRcDFokHIWLLRPLVmHChbRFRcjrK6EAiUCjAVIq1IaKWAkBVmHgoIA062PK2LBoSUt4isktyW6BoEYeKIeosMPgOSY0uv+OR194bn6mfOF//OExMlIy0J4AZvYAOlerOIXbv3Muf+py3Q1opYr35FhyYhzG3E56xAE3Tfa3Swza7eiEDutJZ23+qC9XnJqvrW+b/ljP/ptaz7vWG8/paXv63Vx1P/3Xd8zypemvWWxqygi6ui39NUyMbNwMzAlU3EZMgTjRhwEkhgASAAoIOgMUiwoYuhGZwpkSEZwSGQHxmqsZZ+bQGZVEZksbBEqMPAGIEGLBCNkceaaokAApwHxrAxecIQGecArUaEA27PG//OExFg8+xqIAZvQAG6lTjstSHYOyt3l0K/cOAWxy90XlXkMiEyVhH+gSToBGaOPOZPez5qTrMNfB10qkQwYCfRqDW37a3I10Fv3XdeIsrUdQxUDTOc1/b1HW7zbfwA981Sfz9uqvWpFKmGH//3O4av41YrLpr+a/+65Y+ve//3//ygoNZbsY4Z2uYf3//XMq+9/zL8cOd///eeeeu43Kli4jbT/mv//1jHQLCoziBsjMIDzAEKiECjBwBGhR5BM//OExBcscpacAZnIAGpOSGnaarYZg4EVMI9H0Feg68toOjAoBIELRi3hcKSmqGCBELIwEKi0sccidfZ9Z2JQTI43KL0olM5OVJmW0jdXIf69T6hucfjvcY+5ss7TQ1Sx51mtTUth+PxpxHmqVLOdikrtnf2m3V//9yKKxvueuck1Sphj/Nf////+9d5z//////nf//////7hrX//6+75LTh4IG8uqp46YEIZwONjMgyh1EQFJWUBB2Bgws1cWhPO//OExBgt+saIAdrIAQ6NAxsaJghZmYhcoHOh4qhELIQaTEipIfSOGaAhUYBDRS3JQS6LcLDs2YBvQzjKc41qXXr9ndm7aqX6l+5bqV68qn2JRpY8tbHedK/DXJVZtS2vGrkPRyRQRPvo5MbWtLlPzD1va+tmep6arXq9xu9qZVN1OYWe5Yd/uv/////////////+cxlEsw+1b/P+6/v/++/3mesr/dVtkkxde7fYpeEvQA4BkIVEL0LAyUjIGmHT//OExBMr6qaEANZWuPKAqlIigEUmHSBBw5MTN3M40Alm0aMjmYGFyxaAdGNE0ucBH1djAN9K22v7cDZw92LZyLkhqRXUtuS36b6b6b6a5KrcRlbXXnA4QwFjYF0RbIiyKMh9kP0glHwRiWMng4HcCQHQqBPBOD2Ho4Umg+wjbdzHNimNg2PXEM4u/////6uUmnjp6l0JfD3H7uI57hUGywsXEwwSgSb//1qVDHIofAnoPARkKVhGljwBkCrgsEL9//OExBYnEnKEANYWuaCQtEYeEhIM2MbYKYW+jwwgVY3It0lIj6SFB0GtFwp1YaGHmguTSulob12zjd7d+lzq7x1W1lq1Wv01SrUkzzCkG4ms7ZkeUPqGZscHaZD6sHkklpHVIUCEfQTSaSDN7zFh1ZbrdDoiPbnouLQ4//////+Nc9aU086mqCtCtS1itWjVKfzeql8FXCMXBzU0IwosATb0DCqHFHILCRjIEIQYGgAkROKHEThnGsIwAgthzbrD//OExCwnMrJ4AN5QuEaYer1ZTI0vm5MZcSJvjFX0ppqrTXe2Mae/zLDPHPfOb+rzHCxhS3ojEQQULjFCUTLRo0cJVGSI44B9AQENxg1KlA5LDqDyi3lxzWUMu51KY+z6jXiP////amiY55pEduoqU6qF8Y+8iaUFXf/ptrUuLOnWjJrSea0chRkNWRx5BctYJIVTIwEAUukbMU6aZqDcgqJHsWC7LSC10BstlCwaJr0KvWqvGGIKmbN63ZmaWxfq//OExEImCoJkAN4WuP28ceVMt38rWvtbu9tTM7TUBiSQiu4QbnnW2bP3QidOlBcSTEktNiUec6zuvSZqlZUd9u516h42POa2v/////453160mznW5HLVKQWBo2tiP//q2Sq11TAIVTUqNTNwgzBElDC0SCgkgCAiwt1n5bVRBp0Wh9yX8Y+XY+2I4TaOxSpJXifIejZ3ZyqZmYkNZV1KrXsXTaorvYNYOvLnxYskeufvG2uI8PJNBBBGEw+nUj7W//OExFwmImJEAOvWuDGnasmrZJLWJOkknYci52kfbVKNndNRPHw53////8fEW1tbdFZ7CQKirRdaFzwlV/xQO9bvy1TNW8OlnpUwliNPGDjzs3w5MnRgMvF7WKtlkb86h6XRvCIq3HWbJkgXRMQWrAxwlYroSeNJDkOYsPGGLWm3klq5zq+XtZbT4xj3+c4kzUVrFg5BSIrcips+q2deLJcKpo6B8kox8UMH2MVV7nv/ib+ePfu5qpuE7VLGXDVK//OExHYnqpooANvQuVysdR0g/kQXlvfW9s3/VcjMZdYGX0S9lWqr8hTHG0fBjf5MXffYW74aCxBzKB95flrzk4Uta9jKat6tLJIzu48LLXUAcWGBEBucc412ZA4gmBcPoEq246+VUYctVZvUjJMh77u20df6mB1RFLV3N6zHHqjCTSBrspHm+MWdc4CGK3X2XYzKHYjBiPJlFBDp+zJs0ZmBEfWFPVuOx84dqytCaazQ1gQqhnCZmqBa8zMQWov3//OExIolg/IcAMoG3Ze1W+5UZGW0mOv2/Q2hr0DzMpisps4WtRqXWrmPYarw7ALXbQJQDQ7jxolB5JE1MjxUVSlJNY42XpqhspcONkapGdJzmrJOza0zXbtprp+HRTYuP6i9UM6TdE66KcVSZvJVJU2ZrD+UjIFAEyHg83IjvTIP+OGFdymdWGTZzMKvCbJfJhKkv/lhRNVSnrDNjsYCDqkAhSrKGAgI2oNWOH4INSeGbhmsgrEHaboJMtd03PGq//OExKcnRBoMAMLG3Y6bkRLJeSRtskGDokppghhSJK9ihthN6fc1eIk56mcKuy5qxhjE9VyEW2V8pldqElMkpFecVV4Xu+s7ibMD8kSiIRm1xjHWiV0dRI+SuBg8qa7Q1czX2IKlMMNXMkSvYlC7Ttw0zukr8Juwd1XrYiquR1wxmiHAWZqFG1kMpSgqdlyWoQUoj+gkvVUGNHW6NFS0KJiYmbmaBYPKQxtPWJ2TKIYPiNVcHsJQcjVKICyGofl///OExL0lG8oAAKJG3faU2MnJswQakgSRx9ydSLzh41Flndm1mTtSMskEXFCBDxmxloMtEaWKa6tROp09dEqsPkxKdKqFRzqhFJLHDbZE9uIg9NgZcIK42OHqm8XOmjd2YUeCJcyOMTMhmDQ8xJkCwTdJrmRI7QUPn3Etqilz3VPrCYsUNDS3b0WjVJNzd2UVIZHUlVcMSxc9cdwOWk1vJztVh/5vCwbd0Z2uo6xJ3C0ZHD6EXMSN4wd3WLX3ITsr//OExNsljBoAAKJG3cbFjg0lGzWzB+fQ/VcfYREaXKk+a9Ivd8+3eXPLT7Jh6eEXouWIcaSElsZJBjDFre7nXk6ESRZiINvWzcs5JDZlRrHoFt7uEYXb4Yx99LsZ1oKOQoow+azpk9s5BLLQga1nSj5dtHzLkzuRS+uWsCP08levR+PC6iMauSdjcvr0FSxclkxVr37c9ev8vbVlUUGobgyRFiRBs0bKMSnA2yjeiJ+gKIHrMqLokaCJYiQEpK+L//OExPcu1Cn0ANMM3ZhnFW0kZDGky9qpKIUShJhNbcBKXNRkgWlRtESZVJZZkUJeeknppBT4g9mpLffRToSa8uUnORlX2RKmYztb6j/smanFnZC6DNTJrfHIwVp846rhzEybylMfTUtKRd/7Ufbp+UVEtW0XD4WvaRTQvfrv8eGTurxfZW0GiJHnyocVbQBAXyftOVQJtoBYa12UMOa9PSp/pdMiCIpSBICSkOgAgAgDE46EIAYm9OkkRXHmiSWR//OExO4s7DX4ANJM3MgPE585MXTkEQak13WVpJeae05MVtS6AoAIdntOTExJK7TkQSytMVgTHqYSlVbHIZdEsGiZE2KSVDpCKWeWFTSZETWQiklQoclKVilDiyLFmpWhgiRKoa1CKSWKs40iRaQhkzaFChxEilGUphUMs0iaISWKqGCJEFhShZjmqsrIckiFQWBI15SIgDACDUxSKUSKaHESJEuiRTxZE0qFSZZEmFRSwi6rKLaa2pRVZSaoiRSV//OExO08XCHUAMMS3ULIKiSqBIBQGBUHgfBQEwYBkEgFB4DwcEYgEYfLFSx0oXIEbeV//5IlVk0l1F0ixUsVOHShGgY26/9RVWVWTBBwgcHFDAwQNHcv/2YKGBggYQOCBAwwMEDCOhH/8VQwUEDBBwgeyyyo5rLPsZWsssllljoR//qrKCBwwOqqqIuSqqqppppoqqqDFaqqq6aaaaqqql/v9VNNNNFVVVVMQU1FMy4xMDBVVVVVVVVVVVVVVVVV//OExK4lysDsAEpGuVVVVVVVVVVVVVVVVVVVVVVVVVVVVVVVVVVVVVVVVVVVVVVVVVVVVVVVVVVVVVVVVVVVVVVVVVVVVVVVVVVVVVVVVVVVVVVVVVVVVVVVVVVVVVVVVVVVVVVVVVVVVVVVVVVVVVVVVVVVVVVVVVVVVVVVVVVVVVVVVVVVVVVVVVVVVVVVVVVVVVVVVVVVVVVVVVVVVVVVVVVVVVVVVVVVVVVVVVVVVVVVVVVVVVVVVVVVVVVV\" type=\"audio/x-wav\" />\n",
              "                    Your browser does not support the audio element.\n",
              "                </audio>\n",
              "              "
            ]
          },
          "metadata": {},
          "execution_count": 2
        }
      ]
    }
  ]
}