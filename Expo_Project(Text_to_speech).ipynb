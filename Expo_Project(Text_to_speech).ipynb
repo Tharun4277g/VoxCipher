{
  "nbformat": 4,
  "nbformat_minor": 0,
  "metadata": {
    "colab": {
      "provenance": [],
      "authorship_tag": "ABX9TyPhs9OjhG1x2CiwOMYUJ99B",
      "include_colab_link": true
    },
    "kernelspec": {
      "name": "python3",
      "display_name": "Python 3"
    },
    "language_info": {
      "name": "python"
    }
  },
  "cells": [
    {
      "cell_type": "markdown",
      "metadata": {
        "id": "view-in-github",
        "colab_type": "text"
      },
      "source": [
        "<a href=\"https://colab.research.google.com/github/Tharun4277g/VoxCipher/blob/main/Expo_Project(Text_to_speech).ipynb\" target=\"_parent\"><img src=\"https://colab.research.google.com/assets/colab-badge.svg\" alt=\"Open In Colab\"/></a>"
      ]
    },
    {
      "cell_type": "code",
      "execution_count": null,
      "metadata": {
        "id": "zFWf8YmBtlMT",
        "colab": {
          "base_uri": "https://localhost:8080/",
          "height": 755
        },
        "outputId": "3017411a-810f-43ad-a56e-56101a036dee"
      },
      "outputs": [
        {
          "output_type": "stream",
          "name": "stdout",
          "text": [
            "Collecting translate\n",
            "  Downloading translate-3.6.1-py2.py3-none-any.whl.metadata (7.7 kB)\n",
            "Requirement already satisfied: click in /usr/local/lib/python3.10/dist-packages (from translate) (8.1.7)\n",
            "Requirement already satisfied: lxml in /usr/local/lib/python3.10/dist-packages (from translate) (4.9.4)\n",
            "Requirement already satisfied: requests in /usr/local/lib/python3.10/dist-packages (from translate) (2.32.3)\n",
            "Collecting libretranslatepy==2.1.1 (from translate)\n",
            "  Downloading libretranslatepy-2.1.1-py3-none-any.whl.metadata (233 bytes)\n",
            "Requirement already satisfied: charset-normalizer<4,>=2 in /usr/local/lib/python3.10/dist-packages (from requests->translate) (3.3.2)\n",
            "Requirement already satisfied: idna<4,>=2.5 in /usr/local/lib/python3.10/dist-packages (from requests->translate) (3.10)\n",
            "Requirement already satisfied: urllib3<3,>=1.21.1 in /usr/local/lib/python3.10/dist-packages (from requests->translate) (2.2.3)\n",
            "Requirement already satisfied: certifi>=2017.4.17 in /usr/local/lib/python3.10/dist-packages (from requests->translate) (2024.8.30)\n",
            "Downloading translate-3.6.1-py2.py3-none-any.whl (12 kB)\n",
            "Downloading libretranslatepy-2.1.1-py3-none-any.whl (3.2 kB)\n",
            "Installing collected packages: libretranslatepy, translate\n",
            "Successfully installed libretranslatepy-2.1.1 translate-3.6.1\n",
            "To convert the text into\n",
            "1.English\n",
            "2.Spanish\n",
            "3.French\n",
            "4.German\n",
            "5.Korean\n",
            "6.Mandarin\n",
            "7.Arabic\n",
            "8.Portugese\n",
            "Enter your choice to convert the text(1-8):2\n",
            "The language in which it is converted is Spanish\n",
            "and the Translation is hola\n",
            "Collecting gtts\n",
            "  Downloading gTTS-2.5.3-py3-none-any.whl.metadata (4.1 kB)\n",
            "Requirement already satisfied: requests<3,>=2.27 in /usr/local/lib/python3.10/dist-packages (from gtts) (2.32.3)\n",
            "Requirement already satisfied: click<8.2,>=7.1 in /usr/local/lib/python3.10/dist-packages (from gtts) (8.1.7)\n",
            "Requirement already satisfied: charset-normalizer<4,>=2 in /usr/local/lib/python3.10/dist-packages (from requests<3,>=2.27->gtts) (3.3.2)\n",
            "Requirement already satisfied: idna<4,>=2.5 in /usr/local/lib/python3.10/dist-packages (from requests<3,>=2.27->gtts) (3.10)\n",
            "Requirement already satisfied: urllib3<3,>=1.21.1 in /usr/local/lib/python3.10/dist-packages (from requests<3,>=2.27->gtts) (2.2.3)\n",
            "Requirement already satisfied: certifi>=2017.4.17 in /usr/local/lib/python3.10/dist-packages (from requests<3,>=2.27->gtts) (2024.8.30)\n",
            "Downloading gTTS-2.5.3-py3-none-any.whl (29 kB)\n",
            "Installing collected packages: gtts\n",
            "Successfully installed gtts-2.5.3\n"
          ]
        },
        {
          "output_type": "execute_result",
          "data": {
            "text/plain": [
              "<IPython.lib.display.Audio object>"
            ],
            "text/html": [
              "\n",
              "                <audio  controls=\"controls\" >\n",
              "                    <source src=\"data:audio/x-wav;base64,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\" type=\"audio/x-wav\" />\n",
              "                    Your browser does not support the audio element.\n",
              "                </audio>\n",
              "              "
            ]
          },
          "metadata": {},
          "execution_count": 1
        }
      ],
      "source": [
        "!pip install translate\n",
        "from translate import Translator\n",
        "languages = [\"English\", \"Spanish\", \"French\", \"German\", \"Korean\", \"Mandarin\", \"Arabic\", \"Portuguese\"]\n",
        "while True:\n",
        "  print(\"To convert the text into\")\n",
        "  print(\"1.English\")\n",
        "  print(\"2.Spanish\")\n",
        "  print(\"3.French\")\n",
        "  print(\"4.German\")\n",
        "  print(\"5.Korean\")\n",
        "  print(\"6.Mandarin\")\n",
        "  print(\"7.Arabic\")\n",
        "  print(\"8.Portugese\")\n",
        "  Choice=int(input(\"Enter your choice to convert the text(1-8):\"))\n",
        "  if Choice==1:\n",
        "    translator= Translator(to_lang=languages[0])\n",
        "    text='hello'\n",
        "    translation = translator.translate(text)\n",
        "    print(\"The language in which it is converted is\",languages[0])\n",
        "    print(\"and the Translation is\",translation)\n",
        "    break\n",
        "  elif Choice==2:\n",
        "    translator= Translator(to_lang=languages[1])\n",
        "    text='hello'\n",
        "    translation = translator.translate(text)\n",
        "    print(\"The language in which it is converted is\",languages[1])\n",
        "    print(\"and the Translation is\",translation)\n",
        "    break\n",
        "  elif Choice==3:\n",
        "    translator= Translator(to_lang=languages[2])\n",
        "    text='hello'\n",
        "    translation = translator.translate(text)\n",
        "    print(\"The language in which it is converted is\",languages[2])\n",
        "    print(\"and the Translation is\",translation)\n",
        "    break\n",
        "  elif Choice==4:\n",
        "    translator= Translator(to_lang=languages[3])\n",
        "    text='hello'\n",
        "    translation = translator.translate(text)\n",
        "    print(\"The language in which it is converted is\",languages[3])\n",
        "    print(\"and the Translation is\",translation)\n",
        "    break\n",
        "  elif Choice==5:\n",
        "    translator= Translator(to_lang=languages[4])\n",
        "    text='hello'\n",
        "    translation = translator.translate(text)\n",
        "    print(\"The language in which it is converted is\",languages[4])\n",
        "    print(\"and the Translation is\",translation)\n",
        "    break\n",
        "  elif Choice==6:\n",
        "    translator= Translator(to_lang=languages[5])\n",
        "    text='hello'\n",
        "    translation = translator.translate(text)\n",
        "    print(\"The language in which it is converted is\",languages[5])\n",
        "    print(\"and the Translation is\",translation)\n",
        "    break\n",
        "  elif Choice==7:\n",
        "    translator= Translator(to_lang=languages[6])\n",
        "    text='hello'\n",
        "    translation = translator.translate(text)\n",
        "    print(\"The language in which it is converted is\",languages[6])\n",
        "    print(\"and the Translation is\",translation)\n",
        "    break\n",
        "  elif Choice==8:\n",
        "    translator= Translator(to_lang=languages[7])\n",
        "    text='hello'\n",
        "    translation = translator.translate(text)\n",
        "    print(\"The language in which it is converted is\",languages[7])\n",
        "    print(\"and the Translation is\",translation)\n",
        "    break\n",
        "  else:\n",
        "    print(\"Not converted\")\n",
        "    break\n",
        "\n",
        "!pip install gtts\n",
        "from gtts import gTTS\n",
        "text_to_say = translation\n",
        "language = \"ko\"\n",
        "gtts_object = gTTS(text = text_to_say,\n",
        "                   lang = language,\n",
        "                   slow = False)\n",
        "\n",
        "gtts_object.save(\"/content/gtts.wav\")\n",
        "from IPython.display import Audio\n",
        "Audio(\"/content/gtts.wav\")\n"
      ]
    },
    {
      "cell_type": "code",
      "source": [
        "!pip install translate\n",
        "from translate import Translator\n",
        "import random\n",
        "languages = [\"English\", \"Spanish\", \"French\", \"German\", \"Russian\", \"Mandarin\", \"Arabic\", \"Portuguese\", \"Italian\"]\n",
        "random_language = random.choice(languages)\n",
        "print(\"Random language:\", random_language)\n",
        "translator= Translator(to_lang=random_language)\n",
        "translation = translator.translate(text)\n",
        "print(\"The translation of text is\",translation)\n",
        "!pip install gtts\n",
        "from gtts import gTTS\n",
        "text_to_say = translation\n",
        "language = \"ko\"\n",
        "gtts_object = gTTS(text = text_to_say,\n",
        "                   lang = language,\n",
        "                   slow = False)\n",
        "\n",
        "gtts_object.save(\"/content/gtts.wav\")\n",
        "from IPython.display import Audio\n",
        "Audio(\"/content/gtts.wav\")"
      ],
      "metadata": {
        "colab": {
          "base_uri": "https://localhost:8080/",
          "height": 408
        },
        "id": "zP4YP2PVhqCo",
        "outputId": "8a040c46-c046-4446-db5d-3fbfce59706d"
      },
      "execution_count": null,
      "outputs": [
        {
          "output_type": "stream",
          "name": "stdout",
          "text": [
            "Requirement already satisfied: translate in /usr/local/lib/python3.10/dist-packages (3.6.1)\n",
            "Requirement already satisfied: click in /usr/local/lib/python3.10/dist-packages (from translate) (8.1.7)\n",
            "Requirement already satisfied: lxml in /usr/local/lib/python3.10/dist-packages (from translate) (4.9.4)\n",
            "Requirement already satisfied: requests in /usr/local/lib/python3.10/dist-packages (from translate) (2.32.3)\n",
            "Requirement already satisfied: libretranslatepy==2.1.1 in /usr/local/lib/python3.10/dist-packages (from translate) (2.1.1)\n",
            "Requirement already satisfied: charset-normalizer<4,>=2 in /usr/local/lib/python3.10/dist-packages (from requests->translate) (3.3.2)\n",
            "Requirement already satisfied: idna<4,>=2.5 in /usr/local/lib/python3.10/dist-packages (from requests->translate) (3.10)\n",
            "Requirement already satisfied: urllib3<3,>=1.21.1 in /usr/local/lib/python3.10/dist-packages (from requests->translate) (2.2.3)\n",
            "Requirement already satisfied: certifi>=2017.4.17 in /usr/local/lib/python3.10/dist-packages (from requests->translate) (2024.8.30)\n",
            "Random language: German\n",
            "The translation of text is hallo\n",
            "Requirement already satisfied: gtts in /usr/local/lib/python3.10/dist-packages (2.5.3)\n",
            "Requirement already satisfied: requests<3,>=2.27 in /usr/local/lib/python3.10/dist-packages (from gtts) (2.32.3)\n",
            "Requirement already satisfied: click<8.2,>=7.1 in /usr/local/lib/python3.10/dist-packages (from gtts) (8.1.7)\n",
            "Requirement already satisfied: charset-normalizer<4,>=2 in /usr/local/lib/python3.10/dist-packages (from requests<3,>=2.27->gtts) (3.3.2)\n",
            "Requirement already satisfied: idna<4,>=2.5 in /usr/local/lib/python3.10/dist-packages (from requests<3,>=2.27->gtts) (3.10)\n",
            "Requirement already satisfied: urllib3<3,>=1.21.1 in /usr/local/lib/python3.10/dist-packages (from requests<3,>=2.27->gtts) (2.2.3)\n",
            "Requirement already satisfied: certifi>=2017.4.17 in /usr/local/lib/python3.10/dist-packages (from requests<3,>=2.27->gtts) (2024.8.30)\n"
          ]
        },
        {
          "output_type": "execute_result",
          "data": {
            "text/plain": [
              "<IPython.lib.display.Audio object>"
            ],
            "text/html": [
              "\n",
              "                <audio  controls=\"controls\" >\n",
              "                    <source src=\"data:audio/x-wav;base64,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\" type=\"audio/x-wav\" />\n",
              "                    Your browser does not support the audio element.\n",
              "                </audio>\n",
              "              "
            ]
          },
          "metadata": {},
          "execution_count": 2
        }
      ]
    }
  ]
}